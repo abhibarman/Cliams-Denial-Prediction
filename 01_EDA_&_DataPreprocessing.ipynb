{
 "cells": [
  {
   "cell_type": "code",
   "execution_count": 1,
   "metadata": {},
   "outputs": [
    {
     "name": "stderr",
     "output_type": "stream",
     "text": [
      "/tmp/ipykernel_68207/2746575514.py:3: DeprecationWarning: `import pandas_profiling` is going to be deprecated by April 1st. Please use `import ydata_profiling` instead.\n",
      "  from pandas_profiling import ProfileReport\n"
     ]
    }
   ],
   "source": [
    "from clearml import Task, TaskTypes, Dataset, Logger\n",
    "import pandas as pd\n",
    "from pandas_profiling import ProfileReport\n",
    "from sklearn.model_selection import train_test_split\n",
    "from sklearn.preprocessing import MinMaxScaler\n",
    "import joblib"
   ]
  },
  {
   "attachments": {},
   "cell_type": "markdown",
   "metadata": {},
   "source": [
    "#### Load Dataset"
   ]
  },
  {
   "cell_type": "code",
   "execution_count": 2,
   "metadata": {},
   "outputs": [
    {
     "name": "stdout",
     "output_type": "stream",
     "text": [
      "/home/abhijitbarman/.clearml/cache/storage_manager/datasets/ds_db392699ef964cbf980c40355e7b21d7\n"
     ]
    },
    {
     "data": {
      "text/plain": [
       "(5600, 64)"
      ]
     },
     "execution_count": 2,
     "metadata": {},
     "output_type": "execute_result"
    }
   ],
   "source": [
    "dataset = Dataset.get('db392699ef964cbf980c40355e7b21d7')\n",
    "download_path = dataset.get_local_copy()\n",
    "print(download_path)\n",
    "\n",
    "data = pd.read_csv(download_path + '/Claim Denial Updated V7.csv')\n",
    "data.shape"
   ]
  },
  {
   "cell_type": "code",
   "execution_count": 3,
   "metadata": {},
   "outputs": [
    {
     "name": "stdout",
     "output_type": "stream",
     "text": [
      "40\n"
     ]
    }
   ],
   "source": [
    "columns_to_remove = ['Unnamed: 0' ,'CLAIM_TYPE', 'CLAIM_ID' , 'CLAIM_LINE_NUMBER', 'ENCOUNTER_ID', 'PATIENT_ID', 'Name',\n",
    "'CLAIM_START_DATE', 'CLAIM_END_DATE', 'CLAIM_LINE_START_DATE','CLAIM_LINE_END_DATE',\n",
    "'PLACE_OF_SERVICE_DESCRIPTION','REVENUE_CENTER_DESCRIPTION','RENDERING_NPI',\n",
    "'FACILITY_NPI','DISCHARGE_DISPOSITION_DESCRIPTION','DATA_SOURCE','COVERAGE_START_DATE',\n",
    "'COVERAGE_END_DATE','PAYER', 'PAYER_TYPE', 'BIRTH_DATE','ZIP_CODE','DECEASED_FLAG',\n",
    "'CONDITION_DATE','CONDITION_TYPE','CODE_TYPE','DESCRIPTION','MONTH','YEAR','ENCOUNTER_START_DATE',\n",
    "'ENCOUNTER_END_DATE','ADMIT_SOURCE_DESCRIPTION','ADMIT_TYPE_DESCRIPTION',\n",
    "'PROCEDURE_DATE', 'Year','PHYSICIAN_NPI', 'DENIAL_CATEGORY','APPROVED_CHARGE','CLAIM_STATUS'] \n",
    "\n",
    "print(len(columns_to_remove))"
   ]
  },
  {
   "cell_type": "code",
   "execution_count": 4,
   "metadata": {},
   "outputs": [],
   "source": [
    "col_removed_df = data.drop(columns_to_remove, axis=1)"
   ]
  },
  {
   "cell_type": "code",
   "execution_count": 5,
   "metadata": {},
   "outputs": [
    {
     "data": {
      "text/plain": [
       "(5600, 24)"
      ]
     },
     "execution_count": 5,
     "metadata": {},
     "output_type": "execute_result"
    }
   ],
   "source": [
    "col_removed_df.shape"
   ]
  },
  {
   "cell_type": "code",
   "execution_count": null,
   "metadata": {},
   "outputs": [],
   "source": [
    "\"\"\" #DENIAL_CATEGORY is Empty for all Approved Claims.So, Set DENIAL_CATEGORY to NOT_APPLICABLE for all 'Approved'  Claims\n",
    "col_removed_df['DENIAL_CATEGORY'] = col_removed_df['DENIAL_CATEGORY'].fillna('NOT_APPLICABLE')\n",
    "\n",
    "col_removed_df['DENIAL_CATEGORY'].replace('Prior Authorization ','Prior Authorization', inplace=True)\n",
    "col_removed_df['DENIAL_CATEGORY'].replace('Prior AUthorization','Prior Authorization', inplace=True)\n",
    "\n",
    "col_removed_df['DENIAL_CATEGORY'].value_counts() \"\"\""
   ]
  },
  {
   "cell_type": "code",
   "execution_count": 6,
   "metadata": {},
   "outputs": [],
   "source": [
    "#Add a new REASON_CODE='APPROVED' for Approved Claims\n",
    "col_removed_df['REASON_CODE'].fillna(1.0, inplace=True)"
   ]
  },
  {
   "cell_type": "code",
   "execution_count": 9,
   "metadata": {},
   "outputs": [
    {
     "data": {
      "text/plain": [
       "(['BILL_TYPE_CODE',\n",
       "  'HCPCS_CODE',\n",
       "  'GENDER',\n",
       "  'RACE',\n",
       "  'STATE',\n",
       "  'COUNTY',\n",
       "  'CODE',\n",
       "  'PRESENT_ON_ADMIT',\n",
       "  'DUAL_STATUS',\n",
       "  'ENCOUNTER_TYPE',\n",
       "  'PAYERS',\n",
       "  'PROCEDURE_CODE',\n",
       "  'PROCEDURE_DESCRIPTION',\n",
       "  'PLACE_OF_SERVICE_CODE',\n",
       "  'REVENUE_CENTER_CODE',\n",
       "  'DISCHARGE_DISPOSITION_CODE',\n",
       "  'MEDICARE_STATUS',\n",
       "  'ADMIT_SOURCE_CODE',\n",
       "  'ADMIT_TYPE_CODE',\n",
       "  'MS_DRG'],\n",
       " 20)"
      ]
     },
     "execution_count": 9,
     "metadata": {},
     "output_type": "execute_result"
    }
   ],
   "source": [
    "numerical_df = col_removed_df.select_dtypes(include='number')\n",
    "categorical_df = col_removed_df.select_dtypes(include='object')\n",
    "\n",
    "cat_col_from_numerical_df = ['PLACE_OF_SERVICE_CODE' , 'REVENUE_CENTER_CODE', 'DISCHARGE_DISPOSITION_CODE', 'MEDICARE_STATUS',\n",
    "                             'ADMIT_SOURCE_CODE','ADMIT_TYPE_CODE', 'MS_DRG']\n",
    "\n",
    "categorcal_cols = categorical_df.columns.tolist()\n",
    "categorcal_cols.extend(cat_col_from_numerical_df)\n",
    "categorcal_cols, len(categorcal_cols)"
   ]
  },
  {
   "cell_type": "code",
   "execution_count": 10,
   "metadata": {},
   "outputs": [
    {
     "data": {
      "text/plain": [
       "Index(['PLACE_OF_SERVICE_CODE', 'REVENUE_CENTER_CODE', 'SERVICE_UNIT_QUANTITY',\n",
       "       'TOTAL_CHARGES', 'DISCHARGE_DISPOSITION_CODE', 'Age', 'MEDICARE_STATUS',\n",
       "       'ADMIT_SOURCE_CODE', 'ADMIT_TYPE_CODE', 'MS_DRG', 'REASON_CODE'],\n",
       "      dtype='object')"
      ]
     },
     "execution_count": 10,
     "metadata": {},
     "output_type": "execute_result"
    }
   ],
   "source": [
    "numerical_df.columns"
   ]
  },
  {
   "cell_type": "code",
   "execution_count": 11,
   "metadata": {},
   "outputs": [
    {
     "data": {
      "text/plain": [
       "['Age', 'SERVICE_UNIT_QUANTITY', 'TOTAL_CHARGES', 'REASON_CODE']"
      ]
     },
     "execution_count": 11,
     "metadata": {},
     "output_type": "execute_result"
    }
   ],
   "source": [
    "categorical_df =  col_removed_df[categorcal_cols]\n",
    "numerical_cols = list(set(col_removed_df.columns).difference(set(categorical_df.columns)))\n",
    "numerical_df = col_removed_df[numerical_cols]\n",
    "numerical_cols"
   ]
  },
  {
   "cell_type": "code",
   "execution_count": 12,
   "metadata": {},
   "outputs": [
    {
     "data": {
      "text/plain": [
       "(Index(['BILL_TYPE_CODE', 'HCPCS_CODE', 'GENDER', 'RACE', 'STATE', 'COUNTY',\n",
       "        'CODE', 'PRESENT_ON_ADMIT', 'DUAL_STATUS', 'ENCOUNTER_TYPE', 'PAYERS',\n",
       "        'PROCEDURE_CODE', 'PROCEDURE_DESCRIPTION', 'PLACE_OF_SERVICE_CODE',\n",
       "        'REVENUE_CENTER_CODE', 'DISCHARGE_DISPOSITION_CODE', 'MEDICARE_STATUS',\n",
       "        'ADMIT_SOURCE_CODE', 'ADMIT_TYPE_CODE', 'MS_DRG'],\n",
       "       dtype='object'),\n",
       " ['Age', 'SERVICE_UNIT_QUANTITY', 'TOTAL_CHARGES', 'REASON_CODE'])"
      ]
     },
     "execution_count": 12,
     "metadata": {},
     "output_type": "execute_result"
    }
   ],
   "source": [
    "categorical_df.columns, numerical_cols"
   ]
  },
  {
   "cell_type": "code",
   "execution_count": 13,
   "metadata": {},
   "outputs": [
    {
     "data": {
      "text/plain": [
       "(5600, 24)"
      ]
     },
     "execution_count": 13,
     "metadata": {},
     "output_type": "execute_result"
    }
   ],
   "source": [
    "merged = pd.concat([numerical_df, categorical_df],axis=1 )\n",
    "merged.shape"
   ]
  },
  {
   "cell_type": "code",
   "execution_count": 14,
   "metadata": {},
   "outputs": [
    {
     "data": {
      "text/plain": [
       "(5571, 24)"
      ]
     },
     "execution_count": 14,
     "metadata": {},
     "output_type": "execute_result"
    }
   ],
   "source": [
    "#There are duplicate rows. We'll be removing those.\n",
    "merged_no_dup = merged.drop_duplicates()\n",
    "merged_no_dup.shape"
   ]
  },
  {
   "cell_type": "code",
   "execution_count": 15,
   "metadata": {},
   "outputs": [
    {
     "name": "stdout",
     "output_type": "stream",
     "text": [
      "ClearML Task: overwriting (reusing) task id=e951dae3b9ad414a9b8ff59b8fd6c90f\n",
      "2023-05-11 14:34:35,821 - clearml.Repository Detection - WARNING - Could not read Jupyter Notebook: No module named 'nbconvert'\n",
      "2023-05-11 14:34:35,830 - clearml.Task - INFO - Storing jupyter notebook directly as code\n",
      "ClearML results page: http://3.111.229.37:8080/projects/37a0acef88f847c1a5af15a811add6d7/experiments/e951dae3b9ad414a9b8ff59b8fd6c90f/output/log\n"
     ]
    },
    {
     "data": {
      "text/plain": [
       "' Logger.current_logger().report_media(\\n   \"html\", \"cliams_denial_pandas_profile\", iteration=0, local_path=\"cliams_denial_copy.html\"\\n) '"
      ]
     },
     "execution_count": 15,
     "metadata": {},
     "output_type": "execute_result"
    },
    {
     "name": "stdout",
     "output_type": "stream",
     "text": [
      "ClearML Monitor: GPU monitoring failed getting GPU reading, switching off GPU monitoring\n",
      "ClearML Monitor: Could not detect iteration reporting, falling back to iterations as seconds-from-start\n"
     ]
    }
   ],
   "source": [
    "#profile = ProfileReport(merged_no_dup, title=\"CLAIMS DENIAL ANALYSIS\",html={\"style\":{\"full_width\":True}})\n",
    "#profile.to_file(output_file=\"cliams_denial_copy.html\")\n",
    "\n",
    "task = Task.init('RCM_Claims_Denial_mgmt','EDA_Pandas_Profiling',task_type=TaskTypes.data_processing)\n",
    "\n",
    "\"\"\" Logger.current_logger().report_media(\n",
    "   \"html\", \"cliams_denial_pandas_profile\", iteration=0, local_path=\"cliams_denial_copy.html\"\n",
    ") \"\"\"\n",
    "#task.close()"
   ]
  },
  {
   "cell_type": "code",
   "execution_count": 16,
   "metadata": {},
   "outputs": [
    {
     "data": {
      "text/plain": [
       "{'Charges do not meet qualifications for emergent/urgent care.': 'PD_0',\n",
       " 'Processed in Excess of charges.': 'PD_1',\n",
       " 'Lifetime benefit maximum has been reached for this service/benefit category.': 'PD_2',\n",
       " 'ESRD network support adjustment.': 'PD_3',\n",
       " 'The procedure code is inconsistent with the provider type/specialty (taxonomy).': 'PD_4',\n",
       " 'This care may be covered by another payer per coordination of benefits.': 'PD_5',\n",
       " 'Expenses incurred prior to coverage.': 'PD_6',\n",
       " 'Patient has not met the required eligibility requirements.': 'PD_7',\n",
       " 'Revenue code and Procedure code do not match.': 'PD_8',\n",
       " 'Charges are covered under a capitation agreement/managed care plan.': 'PD_9',\n",
       " 'The diagnosis is inconsistent with the procedure.': 'PD_10',\n",
       " \"These are non-covered services because this is not deemed a 'medical necessity' by the payer.\": 'PD_11',\n",
       " 'Procedure code was invalid on the date of service.': 'PD_12',\n",
       " 'Lifetime benefit maximum has been reached.': 'PD_13',\n",
       " 'Benefit maximum for this time period or occurrence has been reached.': 'PD_14',\n",
       " 'The diagnosis is inconsistent with the provider type.': 'PD_15',\n",
       " 'Expenses incurred after coverage terminated.': 'PD_16',\n",
       " 'Patient refused the service/procedure.': 'PD_17',\n",
       " \"The diagnosis is inconsistent with the patient's gender. \": 'PD_18',\n",
       " \"The diagnosis is inconsistent with the patient's age. \": 'PD_19',\n",
       " \"This is a work-related injury/illness and thus the liability of the Worker's Compensation Carrier.\": 'PD_20',\n",
       " 'Precertification/authorization/notification/pre-treatment absent.': 'PD_21',\n",
       " 'Plan procedures not followed.': 'PD_22',\n",
       " 'Services denied by the prior payer(s) are not covered by this payer.': 'PD_23',\n",
       " 'The procedure code is inconsistent with the modifier used.': 'PD_24',\n",
       " \"The procedure/revenue code is inconsistent with the patient's age.\": 'PD_25',\n",
       " 'These are non-covered services because this is a pre-existing condition. ': 'PD_26',\n",
       " 'Procedure postponed, canceled, or delayed.': 'PD_27',\n",
       " 'Procedure modifier was invalid on the date of service.': 'PD_28',\n",
       " \"The procedure/revenue code is inconsistent with the patient's gender\": 'PD_29',\n",
       " 'Payment adjusted because the payer deems the information submitted does not support this many/frequency of services.': 'PD_30',\n",
       " 'The procedure code/type of bill is inconsistent with the place of service': 'PD_31',\n",
       " 'Non-Covered days/Room charge adjustment.': 'PD_32',\n",
       " 'Expenses incurred during lapse in coverage': 'PD_33',\n",
       " 'Services denied at the time authorization/pre-certification was requested.': 'PD_34',\n",
       " 'Fusion T-lum Jt w Autol Sub, Post Appr P Col, Open': 'PD_35',\n",
       " 'Control Bleeding in Gastrointestinal Tract, Endo': 'PD_36',\n",
       " 'Assist with Cardiac Output using Impeller Pump, Continuous': 'PD_37',\n",
       " 'Dilation of 1 Cor Art with Drug-elut Intra, Perc Approach': 'PD_38',\n",
       " 'Introduce Electrol/Water Bal in Periph Vein, Perc': 'PD_39',\n",
       " 'Fusion Lum Jt w Autol Sub, Post Appr P Col, Open': 'PD_40',\n",
       " 'Drainage of Stomach with Drainage Device, Via Opening': 'PD_41',\n",
       " 'Measurement of Arterial Pressure, Coronary, Perc Approach': 'PD_42',\n",
       " 'Insertion of Monitoring Device into Up Art, Perc Approach': 'PD_43',\n",
       " 'Transfuse Nonaut Frozen Plasma in Periph Vein, Perc': 'PD_44',\n",
       " 'Monitoring of CNS Electr Activity, Extern Approach': 'PD_45',\n",
       " 'Replace of R Knee Jt with Synth Sub, Cement, Open Approach': 'PD_46',\n",
       " 'Measure of Cardiac Sampl & Pressure, L Heart, Perc Approach': 'PD_47',\n",
       " 'Extirpation of Matter from L Int Carotid, Open Approach': 'PD_48',\n",
       " 'Removal of Spacer from Right Knee Joint, Open Approach': 'PD_49',\n",
       " 'Ultrasonography of Right Upper Extremity Veins, Guidance': 'PD_50',\n",
       " 'Excision of Stomach, Endo, Diagn': 'PD_51',\n",
       " 'Measure Cardiac Sampl & Pressure, Bilateral, Perc': 'PD_52',\n",
       " 'Respiratory Ventilation, 24-96 Consecutive Hours': 'PD_53',\n",
       " 'Resection of Lumbar Vertebral Disc, Open Approach': 'PD_54',\n",
       " 'Excision of Small Intestine, Open Approach': 'PD_55',\n",
       " 'Excision of Left Kidney, Percutaneous Endoscopic Approach': 'PD_56',\n",
       " 'Extirpation of Matter from R Int Carotid, Open Approach': 'PD_57',\n",
       " 'Excision of Lumbar Vertebral Disc, Open Approach': 'PD_58',\n",
       " 'Fusion Lum Jt w Intbd Fus Dev, Post Appr A Col, Open': 'PD_59',\n",
       " 'Ultrasonography of Superior Vena Cava, Guidance': 'PD_60',\n",
       " 'Excision of Left Saphenous Vein, Perc Endo Approach': 'PD_61',\n",
       " 'Ultrasonography of Heart with Aorta using Other Contrast': 'PD_62',\n",
       " 'Respiratory Ventilation, Greater than 96 Consecutive Hours': 'PD_63',\n",
       " 'Introduction of Serum/Tox/Vaccine into Muscle, Perc Approach': 'PD_64',\n",
       " 'Introduce Oth Thrombolytic in Periph Vein, Perc': 'PD_65',\n",
       " 'Assist with Cardiac Output using Balloon Pump, Continuous': 'PD_66',\n",
       " 'Inspection of Gastrointestinal Tract, Perc Endo Approach': 'PD_67',\n",
       " 'Drainage of Spinal Canal, Percutaneous Approach, Diagnostic': 'PD_68',\n",
       " 'Resection of Bilateral Ovaries, Perc Endo Approach': 'PD_69',\n",
       " 'Inspection of Upper Intestinal Tract, Endo': 'PD_70',\n",
       " 'Fluoroscopy Kidney, Ureter, Bladder, R w L Osm Contrast': 'PD_71',\n",
       " 'Robotic Assisted Procedure of Trunk, Perc Endo Approach': 'PD_72',\n",
       " 'Resection of Gallbladder, Percutaneous Endoscopic Approach': 'PD_73',\n",
       " 'Fluoroscopy of Thoracic Aorta using Low Osmolar Contrast': 'PD_74',\n",
       " 'Excision of Duodenum, Endo, Diagn': 'PD_75',\n",
       " 'Fluoroscopy of Superior Vena Cava, Guidance': 'PD_76',\n",
       " 'Ultrasonography of Right and Left Heart': 'PD_77',\n",
       " 'Bypass 4+ Cor Art from Aorta with Autol Vn, Open Approach': 'PD_78',\n",
       " 'Fusion 2-6 C Jt w Intbd Fus Dev, Ant Appr A Col, Open': 'PD_79',\n",
       " 'Dilation of Aortic Valve, Percutaneous Approach': 'PD_80',\n",
       " 'Removal of Synth Sub from L Hip Jt, Femoral, Open Approach': 'PD_81',\n",
       " 'Excision of Cerebral Hemisphere, Open Approach, Diagnostic': 'PD_82',\n",
       " 'Insertion of Infusion Dev into Sup Vena Cava, Perc Approach': 'PD_83',\n",
       " 'Excision of Transverse Colon, Endo, Diagn': 'PD_84',\n",
       " 'Transfuse Nonaut Frozen Red Cells in Periph Vein, Perc': 'PD_85',\n",
       " 'Resection of Thyroid Gland, Open Approach': 'PD_86',\n",
       " 'Replacement of R Hip Jt with Ceramic on Poly, Open Approach': 'PD_87',\n",
       " 'Excision of Stomach, Pylorus, Endo, Diagn': 'PD_88',\n",
       " 'Reposition R Up Femur with Intramed Fix, Open Approach': 'PD_89',\n",
       " 'Inspection of Gastrointestinal Tract, Open Approach': 'PD_90',\n",
       " 'Measurement of Arterial Flow, Coronary, Perc Approach': 'PD_91',\n",
       " 'Dilation of Right Ureter with Intraluminal Device, Endo': 'PD_92',\n",
       " 'Fluoroscopy of L Int Mamm Graft using L Osm Contrast': 'PD_93',\n",
       " 'Fluoroscopy of Gallbladder & Bile Duct using L Osm Contrast': 'PD_94',\n",
       " 'Introduction of Vasopressor into Periph Vein, Perc Approach': 'PD_95',\n",
       " 'Dilation of Esophagus, Endo': 'PD_96',\n",
       " 'Measurement of CNS Electr Activity, Extern Approach': 'PD_97',\n",
       " 'Restoration of Cardiac Rhythm, Single': 'PD_98',\n",
       " 'Ultrasonography of Right and Left Heart, Transesophageal': 'PD_99',\n",
       " 'Insertion of Endotracheal Airway into Trachea, Via Opening': 'PD_100',\n",
       " 'Ultrasonography of Bilateral Internal Carotid Arteries': 'PD_101',\n",
       " 'Excision of Cervical Vertebral Disc, Open Approach': 'PD_102',\n",
       " 'Fluoroscopy of Left Heart using Low Osmolar Contrast': 'PD_103',\n",
       " 'Assistance with Respiratory Ventilation, 24-96 Hrs, CPAP': 'PD_104',\n",
       " 'Inspection of Lower Intestinal Tract, Endo': 'PD_105',\n",
       " 'Fluoroscopy of Mult Cor Art using L Osm Contrast': 'PD_106',\n",
       " 'Ultrasonography of Heart with Aorta, Transesophageal': 'PD_107',\n",
       " 'Dilation of 2 Cor Art with 2 Drug-elut, Perc Approach': 'PD_108',\n",
       " 'Replace R Hip Jt w Metal on Poly, Uncement, Open': 'PD_109',\n",
       " 'Supplement Abdominal Wall with Synth Sub, Perc Endo Approach': 'PD_110',\n",
       " 'Destruction of Conduction Mechanism, Percutaneous Approach': 'PD_111',\n",
       " 'Transfuse Nonaut Red Blood Cells in Periph Vein, Perc': 'PD_112',\n",
       " 'Magnetic Resonance Imaging (MRI) of Brain': 'PD_113',\n",
       " 'Insertion of Pacemaker Lead into R Ventricle, Perc Approach': 'PD_114',\n",
       " 'Monitoring of PNS Electr Activity, Intraop, Extern Approach': 'PD_115',\n",
       " 'Ultrasonography of Single Coronary Artery, Intravascular': 'PD_116',\n",
       " 'Excision of Transverse Colon, Endo': 'PD_117',\n",
       " 'Fluoroscopy of Mult Cor A Graft using L Osm Contrast': 'PD_118',\n",
       " 'Resection of Cervical Vertebral Disc, Open Approach': 'PD_119',\n",
       " 'Reposition Left Upper Femur with Intramed Fix, Open Approach': 'PD_120',\n",
       " 'Release Lumbar Nerve, Open Approach': 'PD_121'}"
      ]
     },
     "execution_count": 16,
     "metadata": {},
     "output_type": "execute_result"
    }
   ],
   "source": [
    "unique_names = {v:'PD_'+str(i) for i, v in enumerate(merged_no_dup['PROCEDURE_DESCRIPTION'].unique().tolist())}\n",
    "pd.concat([pd.Series(unique_names.keys()), pd.Series(unique_names.values())],axis=1).to_csv('PROCEDURE_DESCRIPTION_mapping.csv')\n",
    "unique_names"
   ]
  },
  {
   "cell_type": "code",
   "execution_count": 17,
   "metadata": {},
   "outputs": [
    {
     "name": "stdout",
     "output_type": "stream",
     "text": [
      "(5571, 25)\n",
      "(5571, 24)\n"
     ]
    },
    {
     "name": "stderr",
     "output_type": "stream",
     "text": [
      "/tmp/ipykernel_68207/394054059.py:1: SettingWithCopyWarning:\n",
      "\n",
      "\n",
      "A value is trying to be set on a copy of a slice from a DataFrame.\n",
      "Try using .loc[row_indexer,col_indexer] = value instead\n",
      "\n",
      "See the caveats in the documentation: https://pandas.pydata.org/pandas-docs/stable/user_guide/indexing.html#returning-a-view-versus-a-copy\n",
      "\n",
      "/tmp/ipykernel_68207/394054059.py:3: SettingWithCopyWarning:\n",
      "\n",
      "\n",
      "A value is trying to be set on a copy of a slice from a DataFrame\n",
      "\n",
      "See the caveats in the documentation: https://pandas.pydata.org/pandas-docs/stable/user_guide/indexing.html#returning-a-view-versus-a-copy\n",
      "\n"
     ]
    }
   ],
   "source": [
    "merged_no_dup['PROC_DESC'] = merged_no_dup['PROCEDURE_DESCRIPTION'].map(unique_names)\n",
    "print(merged_no_dup.shape)\n",
    "merged_no_dup.drop(columns=['PROCEDURE_DESCRIPTION'],inplace=True)\n",
    "print(merged_no_dup.shape)"
   ]
  },
  {
   "cell_type": "code",
   "execution_count": 18,
   "metadata": {},
   "outputs": [],
   "source": [
    "categorcal_cols.append('PROC_DESC')\n",
    "categorcal_cols.remove('PROCEDURE_DESCRIPTION')"
   ]
  },
  {
   "cell_type": "code",
   "execution_count": 19,
   "metadata": {},
   "outputs": [
    {
     "data": {
      "text/plain": [
       "(5571, 24)"
      ]
     },
     "execution_count": 19,
     "metadata": {},
     "output_type": "execute_result"
    }
   ],
   "source": [
    "merged_no_dup.shape"
   ]
  },
  {
   "cell_type": "code",
   "execution_count": 20,
   "metadata": {},
   "outputs": [],
   "source": [
    "def fix_cardinality(merged_no_dup, column, new_value ,in_freq = 30, ):\n",
    "    value_counts = merged_no_dup[column].value_counts()\n",
    "\n",
    "    freq_dict = dict(value_counts)\n",
    "    for value, freq in freq_dict.items():\n",
    "        if freq < in_freq:\n",
    "            merged_no_dup.loc[merged_no_dup[column] == value, column] = new_value \n",
    "    return merged_no_dup"
   ]
  },
  {
   "cell_type": "code",
   "execution_count": 21,
   "metadata": {},
   "outputs": [
    {
     "data": {
      "text/plain": [
       "(5571, 24)"
      ]
     },
     "execution_count": 21,
     "metadata": {},
     "output_type": "execute_result"
    }
   ],
   "source": [
    "merged_no_dup = fix_cardinality(merged_no_dup,column='HCPCS_CODE', in_freq=50, new_value='G8979')\n",
    "merged_no_dup = fix_cardinality(merged_no_dup,column='COUNTY', in_freq=50, new_value='COUNTY_X')\n",
    "merged_no_dup = fix_cardinality(merged_no_dup,column='CODE', in_freq=173, new_value=\"CODE_X\")\n",
    "merged_no_dup.shape"
   ]
  },
  {
   "cell_type": "code",
   "execution_count": 22,
   "metadata": {},
   "outputs": [],
   "source": [
    "merged_no_dup.to_csv('in_dataset.csv', index=False)"
   ]
  },
  {
   "cell_type": "code",
   "execution_count": 24,
   "metadata": {},
   "outputs": [],
   "source": [
    "merged_no_dup.drop(columns=['REASON_CODE']).head().to_json('in_data_json.json', orient = 'split', compression = 'infer', index = 'true')"
   ]
  },
  {
   "cell_type": "code",
   "execution_count": 25,
   "metadata": {},
   "outputs": [
    {
     "data": {
      "text/plain": [
       "(5571, 565)"
      ]
     },
     "execution_count": 25,
     "metadata": {},
     "output_type": "execute_result"
    }
   ],
   "source": [
    "categorcal_cols = [col for col in categorcal_cols if col != 'REASON_CODE']\n",
    "\n",
    "dumy_encoded = pd.get_dummies(merged_no_dup,columns=categorcal_cols,drop_first=True)\n",
    "dumy_encoded.shape"
   ]
  },
  {
   "cell_type": "code",
   "execution_count": 26,
   "metadata": {},
   "outputs": [
    {
     "name": "stdout",
     "output_type": "stream",
     "text": [
      " Features to be Normalized are : ['Age', 'SERVICE_UNIT_QUANTITY', 'TOTAL_CHARGES']\n"
     ]
    }
   ],
   "source": [
    "norm_features = []\n",
    "desc = dumy_encoded.describe()\n",
    "for col in desc.columns:\n",
    "    if desc.loc[:,col]['std'] > 1:\n",
    "        norm_features.append(col)\n",
    "        #print(col)\n",
    "\n",
    "norm_features.remove('REASON_CODE')\n",
    "norm_features = sorted(norm_features)\n",
    "print(f' Features to be Normalized are : {norm_features}')"
   ]
  },
  {
   "cell_type": "code",
   "execution_count": 27,
   "metadata": {},
   "outputs": [
    {
     "data": {
      "text/plain": [
       "(5571, 565)"
      ]
     },
     "execution_count": 27,
     "metadata": {},
     "output_type": "execute_result"
    }
   ],
   "source": [
    "scaler = MinMaxScaler()\n",
    "scaler.fit(dumy_encoded[norm_features])\n",
    "\n",
    "scaled = scaler.transform(dumy_encoded[norm_features])\n",
    "dumy_encoded['Age'] =  scaled[:,0]\n",
    "dumy_encoded['SERVICE_UNIT_QUANTITY'] = scaled[:,1]\n",
    "dumy_encoded['TOTAL_CHARGES'] = scaled[:,2]\n",
    "dumy_encoded.shape"
   ]
  },
  {
   "cell_type": "code",
   "execution_count": null,
   "metadata": {},
   "outputs": [],
   "source": [
    "{\n",
    "\t\"SERVICE_UNIT_QUANTITY\":10,\n",
    "\t\"Age\":84,\n",
    "\t\"TOTAL_CHARGES\":1638.06,\n",
    "\t\"BILL_TYPE_CODE\":131,\n",
    "\t\"HCPCS_CODE\":\"G8979\",\n",
    "\t\"GENDER\":\"female\",\n",
    "\t\"RACE\":\"white\",\n",
    "\t\"STATE\":\"Utah\",\n",
    "\t\"COUNTY\":\"COUNTY_X\",\n",
    "\t\"CODE\":\"CODE_X\",\n",
    "\t\"PRESENT_ON_ADMIT\":0,\n",
    "\t\"DUAL_STATUS\":0,\n",
    "\t\"ENCOUNTER_TYPE\":\"Other\",\n",
    "\t\"PAYERS\":\"Medicare\",\n",
    "\t\"PROCEDURE_CODE\":\"0W3P8ZZ\",\n",
    "\t\"PLACE_OF_SERVICE_CODE\":23,\n",
    "\t\"REVENUE_CENTER_CODE\":636,\n",
    "\t\"DISCHARGE_DISPOSITION_CODE\":1,\n",
    "\t\"MEDICARE_STATUS\":10,\n",
    "\t\"ADMIT_SOURCE_CODE\":2,\n",
    "\t\"ADMIT_TYPE_CODE\":1,\n",
    "\t\"MS_DRG\":470,\n",
    "\t\"PROC_DESC\":\"PD_1\"\n",
    "}"
   ]
  },
  {
   "cell_type": "code",
   "execution_count": 28,
   "metadata": {},
   "outputs": [
    {
     "data": {
      "text/plain": [
       "['mnmx_scaler.joblib']"
      ]
     },
     "execution_count": 28,
     "metadata": {},
     "output_type": "execute_result"
    },
    {
     "name": "stdout",
     "output_type": "stream",
     "text": [
      "2023-05-11 14:38:51,599 - clearml.Task - INFO - Completed model upload to http://3.111.229.37:8081/RCM_Claims_Denial_mgmt/EDA_Pandas_Profiling.e951dae3b9ad414a9b8ff59b8fd6c90f/models/mnmx_scaler.joblib\n"
     ]
    }
   ],
   "source": [
    "joblib.dump(scaler,'mnmx_scaler.joblib')"
   ]
  },
  {
   "cell_type": "code",
   "execution_count": 29,
   "metadata": {},
   "outputs": [],
   "source": [
    "# add and upload local file artifac\n",
    "task.upload_artifact(\n",
    "    'local file', \n",
    "    artifact_object='mnmx_scaler.joblib'\n",
    ")\n",
    "task.close()"
   ]
  },
  {
   "cell_type": "code",
   "execution_count": 30,
   "metadata": {},
   "outputs": [],
   "source": [
    "dumy_encoded.to_csv('preprocessed_cat_encoded.csv', index=False)"
   ]
  },
  {
   "cell_type": "code",
   "execution_count": 31,
   "metadata": {},
   "outputs": [
    {
     "name": "stdout",
     "output_type": "stream",
     "text": [
      "ClearML results page: http://3.111.229.37:8080/projects/0c1880d1adfb4bf3b970da71fa704cbc/experiments/5029b29e001945cf8514b2462fd1c1d2/output/log\n",
      "ClearML dataset page: http://3.111.229.37:8080/datasets/simple/0c1880d1adfb4bf3b970da71fa704cbc/experiments/5029b29e001945cf8514b2462fd1c1d2\n",
      "Uploading dataset changes (1 files compressed to 194.73 KiB) to http://3.111.229.37:8081\n",
      "File compression and upload completed: total size 194.73 KiB, 1 chunk(s) stored (average size 194.73 KiB)\n"
     ]
    },
    {
     "data": {
      "text/plain": [
       "True"
      ]
     },
     "execution_count": 31,
     "metadata": {},
     "output_type": "execute_result"
    }
   ],
   "source": [
    "# Preprocessing code here\n",
    "child_dataset = Dataset.create(\n",
    "  dataset_name='claims_denial',\n",
    "  dataset_project='RCM_Claims_Denial_mgmt', \n",
    "  parent_datasets=[dataset.id],\n",
    "  dataset_version=\"1.0.1\",\n",
    ")\n",
    "child_dataset.add_files('preprocessed_cat_encoded.csv')\n",
    "child_dataset.upload()\n",
    "child_dataset.finalize()"
   ]
  },
  {
   "cell_type": "code",
   "execution_count": 32,
   "metadata": {},
   "outputs": [
    {
     "data": {
      "text/plain": [
       "'5029b29e001945cf8514b2462fd1c1d2'"
      ]
     },
     "execution_count": 32,
     "metadata": {},
     "output_type": "execute_result"
    }
   ],
   "source": [
    "child_dataset.id"
   ]
  },
  {
   "cell_type": "code",
   "execution_count": null,
   "metadata": {},
   "outputs": [],
   "source": []
  }
 ],
 "metadata": {
  "kernelspec": {
   "display_name": "claims_env",
   "language": "python",
   "name": "python3"
  },
  "language_info": {
   "codemirror_mode": {
    "name": "ipython",
    "version": 3
   },
   "file_extension": ".py",
   "mimetype": "text/x-python",
   "name": "python",
   "nbconvert_exporter": "python",
   "pygments_lexer": "ipython3",
   "version": "3.10.9"
  },
  "orig_nbformat": 4
 },
 "nbformat": 4,
 "nbformat_minor": 2
}
